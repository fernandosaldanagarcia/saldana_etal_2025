{
 "cells": [
  {
   "cell_type": "markdown",
   "id": "3859dbe0-2ebb-4cea-a953-c4bdaf488718",
   "metadata": {},
   "source": [
    "#### Code to obtain the histograms \n",
    "Import the required libraries"
   ]
  },
  {
   "cell_type": "code",
   "execution_count": 1,
   "id": "92006f0a-ddc9-44fc-84e2-2659f8e19792",
   "metadata": {},
   "outputs": [],
   "source": [
    "import numpy as np\n",
    "from scipy.integrate import odeint\n",
    "import matplotlib.pyplot as plt\n",
    "from matplotlib import style\n",
    "\n",
    "# using the style for the plot\n",
    "plt.style.use('seaborn-v0_8-bright')"
   ]
  },
  {
   "cell_type": "markdown",
   "id": "7644e05c-e3d6-42b5-b6c3-ddd959eaf020",
   "metadata": {},
   "source": [
    "The within-host model parameters are given in a vector with form\n",
    "\n",
    "$params = (\\Lambda_T, \\beta_{WH}, d, k, \\delta, p, c)$"
   ]
  },
  {
   "cell_type": "code",
   "execution_count": 2,
   "id": "669cd44f-fbca-41fc-8c3b-e46c3a8c8c95",
   "metadata": {},
   "outputs": [],
   "source": [
    "# Dengue virus\n",
    "WHparamsDENV = np.array([590, 1.0e-4, 0.03, 4, 2.5, 50, 13])\n",
    "\n",
    "# Zika virus\n",
    "WHparamsZIKV = np.array([159, 2e-5, 0.03, 4, 3.5, 1000, 10])\n",
    "\n",
    "# West-nile virus\n",
    "WHparamsWNV = np.array([4020, 4e-4, 0.03, 3, 23.03, 57.88 , 44.43])\n",
    "\n",
    "\n"
   ]
  },
  {
   "cell_type": "markdown",
   "id": "49a00d0c-9c54-4073-a51f-60abb2dcf25f",
   "metadata": {},
   "source": [
    "Fuction for the within-host reproduction number $R_w$"
   ]
  },
  {
   "cell_type": "code",
   "execution_count": 3,
   "id": "cc45c0c5-6e89-4ba1-a6a8-6ec17972b1ca",
   "metadata": {},
   "outputs": [],
   "source": [
    "def Rw(x):\n",
    "    \"\"\" This function receives the within-host parameters and returns Rw\"\"\"\n",
    "    L_T, betaWH, d, k, delta, p ,c = x[0], x[1], x[2], x[3], x[4], x[5], x[6]\n",
    "\n",
    "    Rw = (p*k*betaWH*L_T)/(c*(k+d)*delta*d)\n",
    "    return Rw\n",
    "\n"
   ]
  },
  {
   "cell_type": "markdown",
   "id": "d6075b5e-d9d3-4cdb-b149-6af51c31e4d4",
   "metadata": {},
   "source": [
    "Define the within-host equilibrium viral load $V^{*}$ as a function of $i_M$ and the within-host parameters"
   ]
  },
  {
   "cell_type": "code",
   "execution_count": 4,
   "id": "a7bf196b-ed2e-434b-b1a8-f0450b22bff6",
   "metadata": {},
   "outputs": [],
   "source": [
    "def g_H(iM):\n",
    "    a = 1e7 \n",
    "    x = a*iM\n",
    "    return x\n",
    "    \n",
    "def Vstar(iM, x):\n",
    "    \"\"\" receives an scalar iM and the vector of within-host parameters x\"\"\"\n",
    "    L_T, betaWH, d, k, delta, p ,c = x[0], x[1], x[2], x[3], x[4], x[5], x[6]\n",
    "    term1 = d*(Rw(x)-1)/betaWH\n",
    "    term2 = g_H(iM)/c\n",
    "    raiz1 = (term1 + term2)**2\n",
    "    raiz2 = (4*d*g_H(iM))/(c*betaWH)\n",
    "    V = 0.5*(term1 + term2 + np.sqrt(raiz1 + raiz2))\n",
    "    return V\n",
    "    \n",
    "             \n",
    "    "
   ]
  },
  {
   "cell_type": "markdown",
   "id": "9051d1f6-341d-425c-b04f-0aebb4b5da57",
   "metadata": {},
   "source": [
    "The within-vector parameters"
   ]
  },
  {
   "cell_type": "code",
   "execution_count": 5,
   "id": "f162423b-840c-4e11-97ca-d400390293e1",
   "metadata": {},
   "outputs": [],
   "source": [
    "rm, Km, m, A, rs, Ks = 1.26, 433000, 0.11, 19500, 1.77, 6840000\n",
    "\n",
    "paramsWV = np.array([rm, Km, m, A, rs, Ks])"
   ]
  },
  {
   "cell_type": "markdown",
   "id": "d8e184cd-7b68-4a24-ad4c-fe80fc0676e8",
   "metadata": {},
   "source": [
    "Define the equilibrium viral load in the midgut $W_m^{*}$ as function of $i_H$ and the within-vector parameters"
   ]
  },
  {
   "cell_type": "code",
   "execution_count": 6,
   "id": "512f2fd8-6a44-4c14-9708-17893797e80d",
   "metadata": {},
   "outputs": [],
   "source": [
    "# function g_M(i_H)\n",
    "\n",
    "def g_M(iH):\n",
    "    a = 1e7\n",
    "    x = a*iH\n",
    "    return x"
   ]
  },
  {
   "cell_type": "markdown",
   "id": "2dd1abd7-c5a5-43c8-bc63-f00830771637",
   "metadata": {},
   "source": [
    "Define $W_m^{*}$ as function of $i_H$ and the within-vector parameters"
   ]
  },
  {
   "cell_type": "code",
   "execution_count": 7,
   "id": "5bc6d335-9d49-429a-bfae-2085c71bbfd8",
   "metadata": {},
   "outputs": [],
   "source": [
    "def Wm(iH, x):\n",
    "    \"\"\" receives an scalar 0<iH<1 and the vector of within-vector parameters x\"\"\"\n",
    "    rm, Km, m, A, rs, Ks = x[0], x[1], x[2], x[3], x[4], x[5]\n",
    "    term1 = (1-m/rm)*Km\n",
    "    raiz1 = term1**2\n",
    "    q = 1e-5\n",
    "    raiz2 = 4*q*g_M(iH)*Km/rm\n",
    "    Wm = 0.5*(term1 + np.sqrt(raiz1 + raiz2))\n",
    "    return Wm"
   ]
  },
  {
   "cell_type": "markdown",
   "id": "7dd80403-350c-487b-8c00-0eff7c382d93",
   "metadata": {},
   "source": [
    "Now that we have defined $W_m^{*}$, we can express the equilibrium viral load of the salivary glands $W_s^{*}$ as function of $i_H$"
   ]
  },
  {
   "cell_type": "code",
   "execution_count": 8,
   "id": "adcd8e1e-0312-43ec-abc6-abf34c69b4e4",
   "metadata": {},
   "outputs": [],
   "source": [
    "def Ws(iH, x):\n",
    "    \"\"\" receives an scalar 0<iH<1 and the vector of within-vector parameters x\"\"\"\n",
    "    rm, Km, m, A, rs, Ks = x[0], x[1], x[2], x[3], x[4], x[5]\n",
    "    q = 1e-5\n",
    "    newKs = Ks + (1-q)*g_M(iH)\n",
    "    raiz1 = rs**2\n",
    "    raiz2 = 4*rs/newKs\n",
    "    raiz3 = m*Wm(iH, x)**2/(A + Wm(iH, x)**2)\n",
    "    full_raiz = raiz1 + raiz2*raiz3\n",
    "    Ws = 0.5*(newKs + (newKs/rs)*np.sqrt(full_raiz))\n",
    "    return Ws\n"
   ]
  },
  {
   "cell_type": "markdown",
   "id": "03758283-0f74-49f5-ab76-65c6d936a9e8",
   "metadata": {},
   "source": [
    "The parameter for the population-level epidemic model"
   ]
  },
  {
   "cell_type": "code",
   "execution_count": 9,
   "id": "8497ff9d-73ac-4e7e-b0a5-47a1802c7619",
   "metadata": {},
   "outputs": [],
   "source": [
    "# Mean parameters for DENV\n",
    "xDENV = np.array([1, 1.01, 1, 0.07, 0.67, 0.39, 1/6, 1/8, 1/4.5]) \n",
    "\n",
    "# Mean parameters for ZIKV\n",
    "xZIKV = np.array([1, 1.15, 1, 0.066, 0.96, 0.26, 1/8.5, 1/7, 1/5.5]) \n",
    "\n",
    "# Mean parameters for WNV\n",
    "xWNV = np.array([1, 0.42, 1, 0.12, 0.44, 0.974, 1/0.5, 1/3.5, 1/2.3]) \n",
    "\n"
   ]
  },
  {
   "cell_type": "markdown",
   "id": "c9e457fb-7f77-4b5a-bca9-eda0c02d6139",
   "metadata": {},
   "source": [
    "Next we define the nonlinear functional forms for the transmission rates"
   ]
  },
  {
   "cell_type": "code",
   "execution_count": 10,
   "id": "cd8badf4-035d-45ce-9b98-369c9a131c5b",
   "metadata": {},
   "outputs": [],
   "source": [
    "#------------------------------------------------------------------- betaH\n",
    "\n",
    "# -------------------    Ferguson\n",
    "def betaH_Ferguson(iH, WV_params, theta0, theta1):\n",
    "    \"\"\" betaH as function of 0<iH<1 and the WV parameters\"\"\"\n",
    "    logWs = np.log10(0.69*Ws(iH, WV_params)+1)\n",
    "    exponent = -(logWs/ theta0)**theta1\n",
    "    b = 1 - np.exp(exponent)\n",
    "    return b\n",
    "\n",
    "\n",
    "\n",
    "def betaH_Ferguson_DENV(iH, WV_params):\n",
    "    return betaH_Ferguson(iH, WV_params, theta0=6.12, theta1=6.77)\n",
    "\n",
    "def betaH_Ferguson_ZIKV(iH, WV_params):\n",
    "    return betaH_Ferguson(iH, WV_params, theta0=4.19, theta1=4.37)\n",
    "\n",
    "def betaH_Ferguson_WNV(iH, WV_params):\n",
    "    return betaH_Ferguson(iH, WV_params, theta0 = 7.91, theta1=2.93)\n",
    "\n",
    "\n",
    "\n",
    "# --------------------- Hill\n",
    "def betaH_Hill(iH, WV_params, gamma0, gamma1):\n",
    "    logWs = np.log10(0.69*Ws(iH, WV_params) + 1)\n",
    "    \n",
    "    b = (logWs**gamma1)/(gamma0 + logWs**gamma1)\n",
    "    return b\n",
    "\n",
    "\n",
    "\n",
    "def betaH_Hill_DENV(iH, WV_params):\n",
    "    return betaH_Hill(iH, WV_params, gamma0=np.exp(16), gamma1=9.20)\n",
    "\n",
    "def betaH_Hill_ZIKV(iH, WV_params):\n",
    "    return betaH_Hill(iH, WV_params, gamma0=np.exp(6.69), gamma1=5.13)\n",
    "\n",
    "def betaH_Hill_WNV(iH, WV_params):\n",
    "    return betaH_Hill(iH, WV_params, gamma0=np.exp(7.96), gamma1=4.11)\n",
    "\n",
    "\n",
    "\n",
    "\n",
    "\n",
    "#--------------------------------------------------------------------- betaM\n",
    "\n",
    "# ------------------- Ferguson\n",
    "def betaM_Ferguson(iM, WH_params, theta0, theta1):\n",
    "    \"\"\" betaM as function of 0<iM<1 and the within-host parameters\"\"\"\n",
    "    logV = np.log10(Vstar(iM, WH_params)+1)\n",
    "    exponent = -(logV/ theta0)**theta1\n",
    "    b = 1 - np.exp(exponent)\n",
    "    return b\n",
    "\n",
    "\n",
    "\n",
    "def betaM_Ferguson_DENV(iM, WH_params):\n",
    "    return betaM_Ferguson(iM, WH_params, theta0=6.12, theta1=6.77)\n",
    "\n",
    "def betaM_Ferguson_ZIKV(iM, WH_params):\n",
    "    return betaM_Ferguson(iM, WH_params, theta0=4.19, theta1=4.37)\n",
    "\n",
    "def betaM_Ferguson_WNV(iM, WH_params):\n",
    "    return betaM_Ferguson(iM, WH_params, theta0 = 7.91, theta1=2.93)\n",
    "\n",
    "\n",
    "\n",
    "# --------------------- Hill\n",
    "def betaM_Hill(iM, WH_params, gamma0, gamma1):\n",
    "    \"\"\" betaM as function of 0<iM<1 and the within-host parameters\"\"\"\n",
    "    logV = np.log10(Vstar(iM, WH_params)+1)\n",
    "    \n",
    "    b = (logV**gamma1)/(gamma0 + logV**gamma1) \n",
    "    return b\n",
    "\n",
    "\n",
    "\n",
    "def betaM_Hill_DENV(iM, WH_params):\n",
    "    return betaM_Hill(iM, WH_params, gamma0=np.exp(16), gamma1=9.20)\n",
    "\n",
    "def betaM_Hill_ZIKV(iM, WH_params):\n",
    "    return betaM_Hill(iM, WH_params, gamma0=np.exp(6.69), gamma1=5.13)\n",
    "\n",
    "def betaM_Hill_WNV(iM, WH_params):\n",
    "    return betaM_Hill(iM, WH_params, gamma0=np.exp(7.96), gamma1=4.11)\n",
    "\n",
    "\n",
    "\n",
    "\n",
    "\n"
   ]
  },
  {
   "cell_type": "markdown",
   "id": "44b6a796-dc85-4562-b029-7aee7279cbc8",
   "metadata": {},
   "source": [
    "Now we will define the following function\n",
    "\\begin{equation}\n",
    "\\varphi (I_H) := \\dfrac{\\alpha_1 I_H N_H^{*}}{ (N_H^{*}-\\alpha_3 I_H)\\beta_H(W_s^{*}(i_H)) }.\n",
    "\\end{equation}\n",
    "\n",
    "Note that in the numerical definition $\\varphi$ will depend also on the between-host parameters, the within-vector parameter, and the functional form of $\\beta_H$ (called linking_betaH)\n",
    "\n",
    "Another important note: Mathematically the equilibrium value for $i_H$ is bounded and its maximum is below in such a way that $\\alpha_3 i_H<1$ (see the main text), therefore fesible values for $i_H$ can be way below 1. Furthermore, when $1=\\alpha_3 i_H$ the equilibrium is undefined and can lead to numerical issues."
   ]
  },
  {
   "cell_type": "code",
   "execution_count": 11,
   "id": "42aa35a3-075f-4595-86a8-54e7a9685200",
   "metadata": {},
   "outputs": [],
   "source": [
    "def varphi(I_H, BH_params, WV_params, linking_betaH):\n",
    "    \"\"\" varphi as a function of I_H and the between-host parameters and the within-vector parameters\"\"\"\n",
    "    x = BH_params\n",
    "    L_H, L_M, muH, muM, betaH, betaM, sigmaH, sigmaM, gammaH = x[0], x[1], x[2], x[3], x[4], x[5], x[6], x[7], x[8]\n",
    "\n",
    "    # Total populations\n",
    "    Nh = L_H/muH\n",
    "    Nm = L_M/muM\n",
    "\n",
    "    # auxiliary alphas\n",
    "    alpha1 = (sigmaH + muH)*(gammaH + muH)/sigmaH\n",
    "    alpha3 = (gammaH + muH)/sigmaH + 1 + gammaH/muH\n",
    "    \n",
    "    num = alpha1*I_H*Nh\n",
    "    iH = I_H/Nh\n",
    "\n",
    "    # linkking beta\n",
    "    betaH = linking_betaH\n",
    "    den = betaH(iH, WV_params)*(Nh - alpha3*I_H)\n",
    "    return num/den\n",
    "\n"
   ]
  },
  {
   "cell_type": "markdown",
   "id": "819d8e9c-54b0-4d48-a902-799b1c51b91c",
   "metadata": {},
   "source": [
    "Likewise, we will define the function\n",
    "\\begin{equation}\n",
    "\\psi(I_M) := \\dfrac{\\alpha_2 I_M N_H^{*}}{\\beta_M(V^{*}(i_M))(N_M^{*} -\\alpha_4 I_M)}\n",
    "\\end{equation}\n",
    "\n",
    "Note that in the numerical definition $\\psi$ will depend also on the between-host parameters, the within-host parameter, and the functional form of $\\beta_M$ (called linking_betaM)\n",
    "\n",
    "Another important note: Mathematically the equilibrium value for $i_M$ is bounded and its maximum is below in such a way that $\\alpha_4 i_H<1$ (see the main text), therefore feasible values for $i_M$ can be way below 1."
   ]
  },
  {
   "cell_type": "code",
   "execution_count": 12,
   "id": "ee826d38-7b10-4e49-a0b9-5085278fc831",
   "metadata": {},
   "outputs": [],
   "source": [
    "def psi(I_M,  BH_params, WH_params, linking_betaM):\n",
    "    \"\"\" psi as a function of I_M , the between-host parameters, and the within-host parameters\"\"\"\n",
    "    x = BH_params\n",
    "    L_H, L_M, muH, muM, betaH, betaM, sigmaH, sigmaM, gammaH = x[0], x[1], x[2], x[3], x[4], x[5], x[6], x[7], x[8]\n",
    "\n",
    "    # Total populations\n",
    "    Nh = L_H/muH\n",
    "    Nm = L_M/muM\n",
    "\n",
    "    # auxiliary alphas\n",
    "    alpha2 = (sigmaM + muM)*muM/sigmaM\n",
    "    alpha4 = muM/sigmaM + 1\n",
    "    \n",
    "    num = alpha2*I_M*Nh\n",
    "    iM = I_M/Nm\n",
    "\n",
    "    # linking beta\n",
    "    betaM = linking_betaM\n",
    "    den = betaM(iM, WH_params)*(Nm - alpha4*I_M)\n",
    "    return num/den\n"
   ]
  },
  {
   "cell_type": "markdown",
   "id": "00c0173d-f24a-4d0d-aac9-bb1ef975dca7",
   "metadata": {},
   "source": [
    "Next we define an auxiliar function for plotting $\\varphi$ and $\\psi$ on the same figure"
   ]
  },
  {
   "cell_type": "code",
   "execution_count": 13,
   "id": "84ee3b34-3d03-4b43-93ce-5f79b10f9330",
   "metadata": {},
   "outputs": [],
   "source": [
    "def plotVarphiPsi(BH_params, WH_params, WV_params, linking_betaH, linking_betaM):\n",
    "    x = BH_params\n",
    "    L_H, L_M, muH, muM, betaH, betaM, sigmaH, sigmaM, gammaH = x[0], x[1], x[2], x[3], x[4], x[5], x[6], x[7], x[8]\n",
    "\n",
    "    # Total populations\n",
    "    Nh = L_H/muH\n",
    "    Nm = L_M/muM\n",
    "\n",
    "    # auxiliar alphas\n",
    "    alpha3 = (gammaH + muH)/sigmaH + 1 + gammaH/muH\n",
    "    alpha4 = muM/sigmaM + 1\n",
    "\n",
    "    # maximum equilibrium value\n",
    "    max_equiIH = 0.99/alpha3\n",
    "    max_equiIM = 0.99/alpha4 \n",
    "\n",
    "    # range for the infected host\n",
    "    range_host = np.linspace(0, max_equiIH*Nh, 1000) \n",
    "    range_vector = np.linspace(0, max_equiIM*Nm, 1000) \n",
    "\n",
    "    # returns\n",
    "    r_host = range_host/Nh\n",
    "    r_vector = range_vector/Nm\n",
    "    varphi_r = varphi(range_host, BH_params, WV_params, linking_betaH)/Nm\n",
    "    psi_r = psi(range_vector, BH_params, WH_params, linking_betaM)/Nh\n",
    "\n",
    "    return r_host, r_vector, varphi_r, psi_r\n",
    "\n",
    "\n",
    "\n",
    "\n",
    "\n",
    "\n"
   ]
  },
  {
   "cell_type": "markdown",
   "id": "20cb7f58-73c1-45e1-9ab2-c56ab8f1e3d7",
   "metadata": {},
   "source": [
    "To investigate how the number of intersections between $\\varphi$ and $\\psi$ depend on the model parameters, we will use th Salib library.\n",
    "\n",
    "Let us first import the required libraries"
   ]
  },
  {
   "cell_type": "code",
   "execution_count": 14,
   "id": "753ba94b-ad1d-4641-aee4-31f1f82e3371",
   "metadata": {},
   "outputs": [],
   "source": [
    "from scipy.interpolate import interp1d\n",
    "from SALib.analyze.morris import analyze\n",
    "from multi_root import multi_root"
   ]
  },
  {
   "cell_type": "markdown",
   "id": "b752660e-8c90-4aab-8183-8bffffa4eac4",
   "metadata": {},
   "source": [
    "Next, we redefine the above function to compute the intersections. The difference is that now this function is constrained to variations in the most influential parameters found by the GSA, namely  $\\Lambda_T$, $\\delta$, $p$, $c$, $K_s$, $\\mu_M$, and $\\sigma_H$."
   ]
  },
  {
   "cell_type": "code",
   "execution_count": 15,
   "id": "7c46d221-dee2-4340-bd8c-ea1f1c135ac6",
   "metadata": {},
   "outputs": [],
   "source": [
    "def intersecciones2(X, BH_params, WH_params, WV_params, linking_betaH, linking_betaM):\n",
    "    # X: sampled values for the parameters that are varying\n",
    "    # within-host\n",
    "    L_T = X[0] # cell recruitment rate\n",
    "    delta = X[1] # death rate infected cells\n",
    "    p = X[2] # viral production rate\n",
    "    c = X[3] # viral clearence rate\n",
    "\n",
    "    # within-vector\n",
    "    K_s = X[4] # carrying capacity salivary glands\n",
    "\n",
    "    # between-host model\n",
    "    muM = X[5] # mosquito mortality rate \n",
    "    sigmaH = X[6] # 1/sigmaH duration of human exposed period \n",
    "    \n",
    "    # modify the vector of parameters\n",
    "    # within-host \n",
    "    WH_params[0] = L_T #first element of\n",
    "    WH_params[-3] = delta # delta is in position -3\n",
    "    WH_params[-2] = p # penultimo elemento\n",
    "    WH_params[-1] = c # last element\n",
    "\n",
    "    # within-vector\n",
    "    WV_params[-1] = K_s\n",
    "    \n",
    "    # between-host\n",
    "    BH_params[3] = muM # muM is fourth element in BH_params\n",
    "    BH_params[7] = sigmaH # sigmaH is in position 7 in BH_params\n",
    "\n",
    "    \n",
    "    # obtain varphi, psi and the corresponding ranges\n",
    "    r_host, r_vector, varphi_, psi_ = plotVarphiPsi(BH_params, WH_params, WV_params, linking_betaH, linking_betaM)\n",
    "\n",
    "    # auxiliar functions obtained via interpolation\n",
    "    f1 = interp1d(r_host, varphi_, kind='linear', fill_value='extrapolate')\n",
    "    f2 = interp1d(psi_, r_vector, kind='linear', fill_value='extrapolate')\n",
    "\n",
    "    # We need the zeros of the following function\n",
    "    def f(x):\n",
    "        return f1(x) - f2(x)\n",
    "\n",
    "    \n",
    "    intersections = multi_root(f, [0.0, 0.99])\n",
    "\n",
    "    # return the number of intersections\n",
    "    return len(intersections)"
   ]
  },
  {
   "cell_type": "markdown",
   "id": "1357e326-a75a-4f09-bf0e-08d3fed0460b",
   "metadata": {},
   "source": [
    "Next define the bounds and generate the samples for the model parameters"
   ]
  },
  {
   "cell_type": "code",
   "execution_count": 16,
   "id": "95dfdd11-b56e-410c-ad04-1a9d030ce42e",
   "metadata": {},
   "outputs": [],
   "source": [
    "# constrained sampled\n",
    "\n",
    "# 1. Define parameter space\n",
    "boundsDENV = np.array([[300, 900], [1.25, 3.75], [25,75], [6, 20], [0.69*3.42e6, 0.69*1.02e7], [0.035, 0.15], [0.08, 0.24]])\n",
    "\n",
    "boundsZIKV = np.array([[80, 240], [1.75, 5.25], [500, 1500], [5, 15], [0.69*3.42e6, 0.69*1.02e7], [0.035, 0.15], [0.07, 0.33]]) \n",
    "\n",
    "boundsWNV = np.array([[2010, 6030], [12, 34], [28, 86], [22, 66], [0.69*3.42e6, 0.69*1.02e7], [0.06, 0.18], [0.3, 3]]) \n",
    "\n",
    "\n",
    "# 2. Define constraint function \n",
    "def constraint(sampled_params, WH_params):\n",
    "    \"\"\"Receives: \n",
    "    fixed within-host parameters = WH_params,\n",
    "    samples parameters L_T, p, c = sampled params\n",
    "    returns: indices of the sampled parameters where Rw>1\"\"\"\n",
    "    x = WH_params\n",
    "    betaWH, d, k = x[1], x[2], x[3]\n",
    "\n",
    "    y = sampled_params\n",
    "    L_T, delta, p, c = y[0], y[1], y[2], y[3]  \n",
    "\n",
    "    Rw = (p*k*betaWH*L_T)/(c*(k+d)*delta*d)\n",
    "    Vstar = d*(Rw-1)/betaWH\n",
    "     \n",
    "    return Vstar>10\n",
    "\n",
    "\n",
    "# 3. Generate LHS samples\n",
    "from scipy.stats import qmc\n",
    "def lhs_constrained_sampler(n_samples, bounds, constraint_func, WH_params, max_tries=100, seed=None):\n",
    "    dim = bounds.shape[0]\n",
    "    accepted = []\n",
    "\n",
    "    for _ in range(max_tries):\n",
    "        # Generate more than needed to account for rejection\n",
    "        extra = int(n_samples * 1.5)\n",
    "        sampler = qmc.LatinHypercube(d=dim, seed=seed)\n",
    "        sample = sampler.random(n=extra)\n",
    "\n",
    "        # Scale to bounds\n",
    "        sample = qmc.scale(sample, bounds[:, 0], bounds[:, 1])\n",
    "\n",
    "        # Filter samples\n",
    "        valid = [x for x in sample if constraint_func(x, WH_params)]\n",
    "        accepted.extend(valid)\n",
    "\n",
    "        if len(accepted) >= n_samples:\n",
    "            return np.array(accepted[:n_samples])\n",
    "\n",
    "    raise RuntimeError(f\"Could not generate {n_samples} valid samples after {max_tries} attempts.\")\n",
    "\n",
    "\n",
    "# Step 3: Generate samples\n",
    "\n",
    "param_valuesDENVvalid = lhs_constrained_sampler(2**14, boundsDENV, constraint, WHparamsDENV, seed=2)\n",
    "param_valuesZIKVvalid = lhs_constrained_sampler(2**14, boundsZIKV, constraint, WHparamsZIKV, seed=2)\n",
    "param_valuesWNVvalid = lhs_constrained_sampler(2**14, boundsWNV, constraint, WHparamsWNV, seed=2)\n",
    "\n"
   ]
  },
  {
   "cell_type": "code",
   "execution_count": 17,
   "id": "b04db615-7b1a-4caf-b776-8a805adff1cf",
   "metadata": {},
   "outputs": [],
   "source": [
    "def evaluate(values, BH_params, WH_params, WV_params, linking_betaH, linking_betaM):\n",
    "    Y = np.zeros([values.shape[0]])\n",
    "    for i, X in enumerate(values):\n",
    "        Y[i] = intersecciones2(X, BH_params, WH_params, WV_params, linking_betaH, linking_betaM)\n",
    "    return Y\n",
    "\n",
    "\n",
    "def problemRanges(ParamsBounds):\n",
    "    problem = {\n",
    "        'num_vars': 7,  # number of parameters \n",
    "        'names': np.array(['L_T', 'delta', 'p', 'c','K_s','muM', 'sigmaH']), \n",
    "        'bounds': ParamsBounds #ranges\n",
    "    }\n",
    "    return problem\n",
    "    \n"
   ]
  },
  {
   "cell_type": "markdown",
   "id": "52b31161-cf0c-422b-85d5-41f70cc05e69",
   "metadata": {},
   "source": [
    "Histogram for the number of intersections for each disease"
   ]
  },
  {
   "cell_type": "code",
   "execution_count": 18,
   "id": "b24cd776-7096-45d5-b7a7-5d108265af9f",
   "metadata": {},
   "outputs": [],
   "source": [
    "# ------------Run model (example)\n",
    "\n",
    "# DENV\n",
    "YdenvFerguson = evaluate(param_valuesDENVvalid, xDENV, WHparamsDENV, paramsWV, betaH_Ferguson_DENV, betaM_Ferguson_DENV)\n",
    "YdenvHill = evaluate(param_valuesDENVvalid, xDENV, WHparamsDENV, paramsWV, betaH_Hill_DENV, betaM_Hill_DENV)\n",
    "\n",
    "\n",
    "# ZIKV\n",
    "YzikvFerguson = evaluate(param_valuesZIKVvalid, xZIKV, WHparamsZIKV, paramsWV, betaH_Ferguson_ZIKV, betaM_Ferguson_ZIKV)\n",
    "YzikvHill = evaluate(param_valuesZIKVvalid, xZIKV, WHparamsZIKV, paramsWV, betaH_Hill_ZIKV, betaM_Hill_ZIKV)\n",
    "\n",
    "\n",
    "# WNV\n",
    "YwnvFerguson = evaluate(param_valuesWNVvalid, xWNV, WHparamsWNV, paramsWV, betaH_Ferguson_WNV, betaM_Ferguson_WNV)\n",
    "YwnvHill = evaluate(param_valuesWNVvalid, xWNV, WHparamsWNV, paramsWV, betaH_Hill_WNV, betaM_Hill_WNV)\n",
    "\n",
    "\n",
    "# ------------Perform analysis\n",
    "\n",
    "# DENV\n",
    "Si_denvFerguson = analyze(problemRanges(boundsDENV), param_valuesDENVvalid, YdenvFerguson, print_to_console=False)\n",
    "Si_denvHill = analyze(problemRanges(boundsDENV), param_valuesDENVvalid, YdenvHill, print_to_console=False)\n",
    "\n",
    "# ZIKV\n",
    "Si_zikvFerguson = analyze(problemRanges(boundsZIKV), param_valuesZIKVvalid, YzikvFerguson, print_to_console=False)\n",
    "Si_zikvHill = analyze(problemRanges(boundsZIKV), param_valuesZIKVvalid, YzikvHill, print_to_console=False)\n",
    "\n",
    "# WNV\n",
    "Si_wnvFerguson = analyze(problemRanges(boundsWNV), param_valuesWNVvalid, YwnvFerguson, print_to_console=False)\n",
    "Si_wnvHill = analyze(problemRanges(boundsWNV), param_valuesWNVvalid, YwnvHill, print_to_console=False)"
   ]
  },
  {
   "cell_type": "code",
   "execution_count": 20,
   "id": "80cb2f5c-b3b2-4f58-8ae1-8d85e4f0e070",
   "metadata": {},
   "outputs": [
    {
     "data": {
      "image/png": "[encoded data removed]",
      "text/plain": [
       "<Figure size 1200x700 with 6 Axes>"
      ]
     },
     "metadata": {},
     "output_type": "display_data"
    }
   ],
   "source": [
    "# -------------------------the histogram of the data\n",
    "\n",
    "# Create the plot\n",
    "fig, ((ax1, ax2, ax3), (ax4, ax5, ax6)) = plt.subplots(figsize=(12, 7), ncols=3, nrows=2, sharey=True, sharex='col', constrained_layout=True)\n",
    "\n",
    "hist_width = 0.5\n",
    "bins = np.arange(0.75, 4.3 + hist_width, hist_width)\n",
    "#bins = 'auto'\n",
    "\n",
    "\n",
    "ax1.hist(YdenvFerguson, bins=bins, color='#1b9e77', alpha=0.7)\n",
    "ax1.set_yscale('log')\n",
    "ax1.set_ylabel('Frequency', fontsize=14)\n",
    "#ax1.set_xlabel('Number of equilibrium points', fontsize=14)\n",
    "ax1.tick_params(labelsize=13)\n",
    "ax1.set_title('DENV', fontsize=14)\n",
    "\n",
    "ax2.hist(YzikvFerguson, bins=bins, color='#7570b3', alpha=0.7)\n",
    "ax2.tick_params(labelsize=13)\n",
    "#ax2.set_xlabel('Number of equilibrium points', fontsize=14)\n",
    "ax2.set_title('ZIKV', fontsize=14)\n",
    "\n",
    "ax3.hist(YwnvFerguson, bins=bins, color='#d95f02', alpha=0.7)\n",
    "ax3.tick_params(labelsize=13)\n",
    "#ax3.set_xlabel('Number of equilibrium points', fontsize=14)\n",
    "ax3.set_title('WNV', fontsize=14)\n",
    "\n",
    "\n",
    "\n",
    "ax4.hist(YdenvHill, bins=bins, color='#1b9e77', alpha=0.7)\n",
    "#ax4.set_yscale('log')\n",
    "ax4.set_ylabel('Frequency', fontsize=14)\n",
    "ax4.set_xlabel('Number of equilibrium points', fontsize=14)\n",
    "ax4.tick_params(labelsize=13)\n",
    "\n",
    "\n",
    "ax5.hist(YzikvHill, bins=bins, color='#7570b3', alpha=0.7)\n",
    "ax5.tick_params(labelsize=13)\n",
    "ax5.set_xlabel('Number of equilibrium points', fontsize=14)\n",
    "\n",
    "\n",
    "ax6.hist(YwnvHill, bins=bins, color='#d95f02', alpha=0.7)\n",
    "ax6.tick_params(labelsize=13)\n",
    "ax6.set_xlabel('Number of equilibrium points', fontsize=14)\n",
    "\n",
    "\n",
    "\n",
    "plt.show()"
   ]
  },
  {
   "cell_type": "code",
   "execution_count": null,
   "id": "312b29b8-a9d2-451e-9e7c-694fa7f14d7c",
   "metadata": {},
   "outputs": [],
   "source": []
  },
  {
   "cell_type": "code",
   "execution_count": null,
   "id": "b4a4e152-7ffa-47ec-9cba-c331e0ed111a",
   "metadata": {},
   "outputs": [],
   "source": []
  }
 ],
 "metadata": {
  "kernelspec": {
   "display_name": "main_env",
   "language": "python",
   "name": "python3"
  },
  "language_info": {
   "codemirror_mode": {
    "name": "ipython",
    "version": 3
   },
   "file_extension": ".py",
   "mimetype": "text/x-python",
   "name": "python",
   "nbconvert_exporter": "python",
   "pygments_lexer": "ipython3",
   "version": "3.11.13"
  }
 },
 "nbformat": 4,
 "nbformat_minor": 5
}
