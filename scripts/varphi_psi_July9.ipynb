{
 "cells": [
  {
   "cell_type": "markdown",
   "id": "3859dbe0-2ebb-4cea-a953-c4bdaf488718",
   "metadata": {},
   "source": [
    "### Code to compute the functions $\\varphi$ and $\\psi$\n",
    "\n",
    "First import the necessary libraries"
   ]
  },
  {
   "cell_type": "code",
   "execution_count": 5,
   "id": "92006f0a-ddc9-44fc-84e2-2659f8e19792",
   "metadata": {},
   "outputs": [],
   "source": [
    "import numpy as np\n",
    "from scipy.integrate import odeint\n",
    "import matplotlib.pyplot as plt\n",
    "from matplotlib import style\n",
    "\n",
    "# using the style for the plot\n",
    "plt.style.use('seaborn-v0_8-bright')"
   ]
  },
  {
   "cell_type": "markdown",
   "id": "7644e05c-e3d6-42b5-b6c3-ddd959eaf020",
   "metadata": {},
   "source": [
    "#### Code chunk 1: Within-Host model\n",
    "\n",
    "The within-host model parameters are given in a vector with form\n",
    "\n",
    "$params = (\\Lambda_T, \\beta_{WH}, d, k, \\delta, p, c)$"
   ]
  },
  {
   "cell_type": "code",
   "execution_count": 8,
   "id": "669cd44f-fbca-41fc-8c3b-e46c3a8c8c95",
   "metadata": {},
   "outputs": [],
   "source": [
    "# Dengue virus\n",
    "WHparamsDENV = np.array([590, 1.0e-4, 0.03, 4, 2.5, 50, 13])\n",
    "\n",
    "# Zika virus\n",
    "WHparamsZIKV = np.array([159, 2e-5, 0.03, 4, 3.5, 1000, 10])\n",
    "\n",
    "# West-nile virus\n",
    "WHparamsWNV = np.array([4020, 4e-4, 0.03, 3, 23.03, 57.88 , 44.43])\n",
    "\n"
   ]
  },
  {
   "cell_type": "markdown",
   "id": "49a00d0c-9c54-4073-a51f-60abb2dcf25f",
   "metadata": {},
   "source": [
    "Fuction for the within-host reproduction number $R_w$"
   ]
  },
  {
   "cell_type": "code",
   "execution_count": 11,
   "id": "cc45c0c5-6e89-4ba1-a6a8-6ec17972b1ca",
   "metadata": {},
   "outputs": [],
   "source": [
    "def Rw(x):\n",
    "    \"\"\" This function receives the within-host parameters and returns Rw\"\"\"\n",
    "    L_T, betaWH, d, k, delta, p ,c = x[0], x[1], x[2], x[3], x[4], x[5], x[6]\n",
    "\n",
    "    Rw = (p*k*betaWH*L_T)/(c*(k+d)*delta*d)\n",
    "    return Rw\n",
    "\n"
   ]
  },
  {
   "cell_type": "markdown",
   "id": "c35001f6-5bba-4273-aa14-54e934d39536",
   "metadata": {},
   "source": [
    "Define the within-host equilibrium viral load $V^{*}$ as a function of $i_M$ and the within-host parameters"
   ]
  },
  {
   "cell_type": "code",
   "execution_count": 14,
   "id": "a7bf196b-ed2e-434b-b1a8-f0450b22bff6",
   "metadata": {},
   "outputs": [],
   "source": [
    "def g_H(iM):\n",
    "    a = 1e7\n",
    "    x = a*iM\n",
    "    return x\n",
    "    \n",
    "def Vstar(iM, x):\n",
    "    \"\"\" This function receives an scalar iM and the vector of within-host parameters x\"\"\"\n",
    "    L_T, betaWH, d, k, delta, p ,c = x[0], x[1], x[2], x[3], x[4], x[5], x[6]\n",
    "    term1 = d*(Rw(x)-1)/betaWH\n",
    "    term2 = g_H(iM)/c\n",
    "    raiz1 = (term1 + term2)**2\n",
    "    raiz2 = 4*d*g_H(iM)/(c*betaWH)\n",
    "    V = 0.5*(term1 + term2 + np.sqrt(raiz1 + raiz2))\n",
    "    return V\n",
    "    \n"
   ]
  },
  {
   "cell_type": "markdown",
   "id": "9051d1f6-341d-425c-b04f-0aebb4b5da57",
   "metadata": {},
   "source": [
    "#### Code chunk 2: The Within-Vector model\n",
    "\n",
    "The within-vector parameters are given next"
   ]
  },
  {
   "cell_type": "code",
   "execution_count": 17,
   "id": "f162423b-840c-4e11-97ca-d400390293e1",
   "metadata": {},
   "outputs": [],
   "source": [
    "rm, Km, m, A, rs, Ks = 1.26, 0.69*433000, 0.11, (0.69**2)*19500, 1.77, 0.69*6840000\n",
    "\n",
    "paramsWV = np.array([rm, Km, m, A, rs, Ks])"
   ]
  },
  {
   "cell_type": "markdown",
   "id": "2dd1abd7-c5a5-43c8-bc63-f00830771637",
   "metadata": {},
   "source": [
    "Define the equilibrium viral load in the midgut $W_m^{*}$ as function of $i_H$ and the within-vector parameters"
   ]
  },
  {
   "cell_type": "code",
   "execution_count": 20,
   "id": "5bc6d335-9d49-429a-bfae-2085c71bbfd8",
   "metadata": {},
   "outputs": [],
   "source": [
    "def g_M(iH):\n",
    "    a = 1e7\n",
    "    x = a*iH\n",
    "    return x\n",
    "\n",
    "def Wm(iH, x):\n",
    "    \"\"\" This function receives an scalar 0<iB<1 and the vector of within-vector parameters x\"\"\"\n",
    "    rm, Km, m, A, rs, Ks = x[0], x[1], x[2], x[3], x[4], x[5]\n",
    "    term1 = (1-m/rm)*Km\n",
    "    raiz1 = term1**2\n",
    "    q = 1e-5\n",
    "    raiz2 = 4*q*g_M(iH)*Km/rm\n",
    "    Wm = 0.5*(term1 + np.sqrt(raiz1 + raiz2))\n",
    "    return Wm"
   ]
  },
  {
   "cell_type": "markdown",
   "id": "7dd80403-350c-487b-8c00-0eff7c382d93",
   "metadata": {},
   "source": [
    "Now that we have defined $W_m^{*}$, we can express the equilibrium viral load of the salivary glands $W_s^{*}$ as function of $i_H$"
   ]
  },
  {
   "cell_type": "code",
   "execution_count": 23,
   "id": "adcd8e1e-0312-43ec-abc6-abf34c69b4e4",
   "metadata": {},
   "outputs": [],
   "source": [
    "def Ws(iH, x):\n",
    "    \"\"\" This function receives an scalar 0<iH<1 and the vector of within-vector parameters x\"\"\"\n",
    "    rm, Km, m, A, rs, Ks = x[0], x[1], x[2], x[3], x[4], x[5]\n",
    "    q = 1e-5\n",
    "    newKs = Ks + (1-q)*g_M(iH)\n",
    "    raiz1 = rs**2\n",
    "    raiz2 = 4*rs/newKs\n",
    "    raiz3 = m*Wm(iH, x)**2/(A + Wm(iH, x)**2)\n",
    "    full_raiz = raiz1 + raiz2*raiz3\n",
    "    Ws = 0.5*(newKs + (newKs/rs)*np.sqrt(full_raiz))\n",
    "    return Ws\n",
    "\n"
   ]
  },
  {
   "cell_type": "markdown",
   "id": "03758283-0f74-49f5-ab76-65c6d936a9e8",
   "metadata": {},
   "source": [
    "#### Code chunk 3: The between-host model\n",
    "\n",
    "The parameter for the population-level epidemic model will be given in a vector of the form\n",
    "\n",
    "$ x = (\\Lambda_H, \\Lambda_M, \\mu_H, \\mu_M, \\beta_h, \\beta_m, \\sigma_H, \\sigma_M, \\gamma_H)$\n",
    "\n",
    "Note that as discussed in the SM, the host population can be normalized i.e. $N^{*}= \\Lambda_H/\\mu_H = 1$."
   ]
  },
  {
   "cell_type": "code",
   "execution_count": 26,
   "id": "8497ff9d-73ac-4e7e-b0a5-47a1802c7619",
   "metadata": {},
   "outputs": [],
   "source": [
    "# Mean parameters for DENV\n",
    "xDENV = np.array([1, 1.01, 1, 0.07, 0.67, 0.39, 1/6, 1/8, 1/4.5]) \n",
    "\n",
    "# Mean parameters for ZIKV\n",
    "xZIKV = np.array([1, 1.15, 1, 0.066, 0.96, 0.26, 1/8.5, 1/7, 1/5.5]) \n",
    "\n",
    "# Mean parameters for WNV\n",
    "xWNV = np.array([1, 0.42, 1, 0.12, 0.44, 0.974, 1/0.5, 1/3.5, 1/2.3]) \n",
    "\n"
   ]
  },
  {
   "cell_type": "markdown",
   "id": "dc8ccb00-e13d-4d31-b553-2c3c7aafc74f",
   "metadata": {},
   "source": [
    "Between-host reproduction number "
   ]
  },
  {
   "cell_type": "code",
   "execution_count": 29,
   "id": "4d8a5bcd-ab02-41e9-a3ae-ea17f59de6f4",
   "metadata": {},
   "outputs": [],
   "source": [
    "def Rh(x):\n",
    "    \"\"\" This function gives Rh as a function of between-host parameters\"\"\"\n",
    "    L_H, L_M, muH, muM, betaH, betaM, sigmaH, sigmaM, gammaH = x[0], x[1], x[2], x[3], x[4], x[5], x[6], x[7], x[8]\n",
    "\n",
    "    # Total populations\n",
    "    Nh = L_H/muH\n",
    "    Nm = L_M/muM\n",
    "\n",
    "    Rh_Numerator = sigmaM*betaH*sigmaH*betaM*Nm\n",
    "    Rh_Denominator = (sigmaM + muM)*muM*(sigmaH + muH)*(gammaH + muH)*Nh\n",
    "    Rh = np.sqrt(Rh_Numerator/Rh_Denominator)\n",
    "    return Rh\n",
    "\n"
   ]
  },
  {
   "cell_type": "markdown",
   "id": "c9e457fb-7f77-4b5a-bca9-eda0c02d6139",
   "metadata": {},
   "source": [
    "Next we define the linear functional forms for the transmission rates $\\beta_H(W_s^{*}(i_H))$ and $\\beta_M(V^{*}(i_M))$\n",
    "\n",
    "Note that the functions depend on the (fraction) infected host and mosquito classes, respectively, but also $\\beta_H$ depends on the within-vector parameters\n",
    "while $\\beta_M$ depends on the within-host parameters."
   ]
  },
  {
   "cell_type": "code",
   "execution_count": 46,
   "id": "cd8badf4-035d-45ce-9b98-369c9a131c5b",
   "metadata": {},
   "outputs": [],
   "source": [
    "# Helper function to avoid invalid log10 values\n",
    "def safe_log10(x, min_val=1e-5):\n",
    "    x = np.maximum(x, min_val)  # avoid log10 of zero or negative values\n",
    "    return np.log10(x)\n",
    "    \n",
    "# --------------------------------------------------- betaH\n",
    "\n",
    "# cynomolgus macaques\n",
    "def betaH_CM(iH, WV_params, betah=0.16):\n",
    "    #b = betah*np.log10(Ws(iH, WV_params))\n",
    "    b = betah * safe_log10(Ws(iH, WV_params))\n",
    "    return b\n",
    "\n",
    "\n",
    "\n",
    "#--------------------------------------------------- betaM\n",
    "\n",
    "# cynomolgus macaques\n",
    "def betaM_CM(iM, WH_params, betam=0.16):\n",
    "    #logV = np.log10(Vstar(iM, WH_params))\n",
    "    logV = safe_log10(Vstar(iM, WH_params))\n",
    "    b = betam*logV \n",
    "    return b\n",
    "\n"
   ]
  },
  {
   "cell_type": "markdown",
   "id": "44b6a796-dc85-4562-b029-7aee7279cbc8",
   "metadata": {},
   "source": [
    "Now we will define the following function\n",
    "\\begin{equation}\n",
    "\\varphi (I_H) := \\dfrac{\\alpha_1 I_H N_H^{*}}{ (N_H^{*}-\\alpha_3 I_H)\\beta_H(W_s^{*}(i_H)) }.\n",
    "\\end{equation}\n",
    "\n",
    "Note that in the numerical definition $\\varphi$ will depend also on the between-host parameters, the within-vector parameter, and the functional form of $\\beta_H$ (called linking_betaH)\n",
    "\n",
    "Another important note: Mathematically the equilibrium value for $i_H$ is bounded and its maximum is below in such a way that $\\alpha_3 i_H<1$ (see the main text), therefore fesible values for $i_H$ can be way below 1. Furthermore, when $1=\\alpha_3 i_H$ the equilibrium is undefined and can lead to numerical issues."
   ]
  },
  {
   "cell_type": "code",
   "execution_count": 35,
   "id": "42aa35a3-075f-4595-86a8-54e7a9685200",
   "metadata": {},
   "outputs": [],
   "source": [
    "def varphi(I_H, BH_params, WV_params, linking_betaH):\n",
    "    \"\"\" varphi as a function of I_H and the between-host parameters and the within-vector parameters\"\"\"\n",
    "    x = BH_params\n",
    "    L_H, L_M, muH, muM, betaH, betaM, sigmaH, sigmaM, gammaH = x[0], x[1], x[2], x[3], x[4], x[5], x[6], x[7], x[8]\n",
    "\n",
    "    # Total populations\n",
    "    Nh = L_H/muH\n",
    "    Nm = L_M/muM\n",
    "\n",
    "    # auxiliary alphas\n",
    "    alpha1 = (sigmaH + muH)*(gammaH + muH)/sigmaH\n",
    "    alpha3 = (gammaH + muH)/sigmaH + 1 + gammaH/muH\n",
    "    \n",
    "    num = alpha1*I_H*Nh\n",
    "    iH = I_H/Nh\n",
    "\n",
    "    # linkking beta\n",
    "    betaH = linking_betaH\n",
    "    den = betaH(iH, WV_params)*(Nh - alpha3*I_H)\n",
    "    return num/den\n",
    "\n",
    "\n"
   ]
  },
  {
   "cell_type": "markdown",
   "id": "819d8e9c-54b0-4d48-a902-799b1c51b91c",
   "metadata": {},
   "source": [
    "Likewise, we will define the function\n",
    "\\begin{equation}\n",
    "\\psi(I_M) := \\dfrac{\\alpha_2 I_M N_H^{*}}{\\beta_M(V^{*}(i_M))(N_M^{*} -\\alpha_4 I_M)}\n",
    "\\end{equation}\n",
    "\n",
    "Note that in the numerical definition $\\psi$ will depend also on the between-host parameters, the within-host parameter, and the functional form of $\\beta_M$ (called linking_betaM)\n",
    "\n",
    "Another important note: Mathematically the equilibrium value for $i_M$ is bounded and its maximum is below in such a way that $\\alpha_4 i_H<1$ (see the main text), therefore feasible values for $i_M$ can be way below 1."
   ]
  },
  {
   "cell_type": "code",
   "execution_count": 38,
   "id": "ee826d38-7b10-4e49-a0b9-5085278fc831",
   "metadata": {},
   "outputs": [],
   "source": [
    "def psi(I_M,  BH_params, WH_params, linking_betaM):\n",
    "    \"\"\" psi as a function of I_M and the between-host parameters and the within-vector parameters\"\"\"\n",
    "    x = BH_params\n",
    "    L_H, L_M, muH, muM, betaH, betaM, sigmaH, sigmaM, gammaH = x[0], x[1], x[2], x[3], x[4], x[5], x[6], x[7], x[8]\n",
    "\n",
    "    # Total populations\n",
    "    Nh = L_H/muH\n",
    "    Nm = L_M/muM\n",
    "\n",
    "    # auxiliary alphas\n",
    "    alpha2 = (sigmaM + muM)*muM/sigmaM\n",
    "    alpha4 = muM/sigmaM + 1\n",
    "    \n",
    "    num = alpha2*I_M*Nh\n",
    "    iM = I_M/Nm\n",
    "\n",
    "    # linking beta\n",
    "    betaM = linking_betaM\n",
    "    den = betaM(iM, WH_params)*(Nm - alpha4*I_M)\n",
    "    return num/den\n"
   ]
  },
  {
   "cell_type": "markdown",
   "id": "00c0173d-f24a-4d0d-aac9-bb1ef975dca7",
   "metadata": {},
   "source": [
    "Next we define an auxiliar function for plotting $\\varphi$ and $\\psi$ on the same figure"
   ]
  },
  {
   "cell_type": "code",
   "execution_count": 41,
   "id": "84ee3b34-3d03-4b43-93ce-5f79b10f9330",
   "metadata": {},
   "outputs": [],
   "source": [
    "def plotVarphiPsi(BH_params, WH_params, WV_params, linking_betaH, linking_betaM):\n",
    "    x = BH_params\n",
    "    L_H, L_M, muH, muM, betaH, betaM, sigmaH, sigmaM, gammaH = x[0], x[1], x[2], x[3], x[4], x[5], x[6], x[7], x[8]\n",
    "\n",
    "    # Total populations\n",
    "    Nh = L_H/muH\n",
    "    Nm = L_M/muM\n",
    "\n",
    "    # auxiliar alphas\n",
    "    alpha3 = (gammaH + muH)/sigmaH + 1 + gammaH/muH\n",
    "    alpha4 = muM/sigmaM + 1\n",
    "\n",
    "    # maximum equilibrium value\n",
    "    max_equiIH = 0.98/alpha3\n",
    "    max_equiIM = 0.98/alpha4 \n",
    "\n",
    "    # range for the infected host\n",
    "    range_host = np.linspace(0, max_equiIH*Nh, 100) \n",
    "    range_vector = np.linspace(0, max_equiIM*Nm, 100) \n",
    "\n",
    "    # returns\n",
    "    r_host = range_host/Nh\n",
    "    r_vector = range_vector/Nm\n",
    "    varphi_r = varphi(range_host, BH_params, WV_params, linking_betaH)/Nm\n",
    "    psi_r = psi(range_vector, BH_params, WH_params, linking_betaM)/Nh\n",
    "\n",
    "    return r_host, r_vector, varphi_r, psi_r\n",
    "\n",
    "\n",
    "\n",
    "\n",
    "\n"
   ]
  },
  {
   "cell_type": "markdown",
   "id": "7eda373a-e74c-419e-9781-190bbaa97624",
   "metadata": {},
   "source": [
    "Plot for linear beta functions and the mean values of the full model (for each disease)"
   ]
  },
  {
   "cell_type": "code",
   "execution_count": 71,
   "id": "7899c35b-ace5-4e4a-9cd6-528738d5b820",
   "metadata": {},
   "outputs": [
    {
     "data": {
      "image/png": "[encoded data removed]",
      "text/plain": [
       "<Figure size 500x350 with 1 Axes>"
      ]
     },
     "metadata": {},
     "output_type": "display_data"
    }
   ],
   "source": [
    " # plot\n",
    "fig, ax1 = plt.subplots(figsize=(5,3.5), constrained_layout=True)\n",
    "\n",
    "# ---------- ZIKV (Cynomolgus macaques)\n",
    "r_host_d, r_vector_d, varphi_d, psi_d = plotVarphiPsi(xZIKV, WHparamsZIKV, paramsWV, betaH_CM, betaM_CM)\n",
    "ax1.plot(r_host_d, varphi_d, label=r'$\\varphi$', linestyle='dashed', color='#7570b3')\n",
    "ax1.plot(psi_d, r_vector_d, label=r'$\\psi$', color='#7570b3')\n",
    "\n",
    "\n",
    "ax1.set_xlabel(\"Infected host (fraction)\", fontsize=12)\n",
    "ax1.set_ylabel(\"Infected mosquitoes (fraction)\", fontsize=12)\n",
    "ax1.legend(loc='best', fontsize=10)\n",
    "ax1.set_xlim(0, 1.)\n",
    "ax1.set_ylim(0, 1.)\n",
    "#ax1.tick_params(labelsize=12)\n",
    "\n",
    "\n",
    "#plt.savefig(\"interceptions_linear.pdf\", bbox_inches = 'tight')\n",
    "plt.show()\n"
   ]
  },
  {
   "cell_type": "markdown",
   "id": "22a4758f-7306-49cf-836e-81eb359f6d91",
   "metadata": {},
   "source": [
    "#### Plot of the functions $\\varphi$ and $\\psi$ for parameters corresponding to DENV and the dose-response based on the Hill transmission rate"
   ]
  },
  {
   "cell_type": "markdown",
   "id": "696534d2-c546-4f66-b207-5af326c4c42e",
   "metadata": {},
   "source": [
    "First, define the transmission rates"
   ]
  },
  {
   "cell_type": "code",
   "execution_count": 64,
   "id": "2d4000c6-77f3-40ea-b08e-a56d0c7caca9",
   "metadata": {},
   "outputs": [],
   "source": [
    "\n",
    "\n",
    "def betaH_Hill_DENV(iH, WV_params, gamma0=np.exp(16), gamma1=9.2):\n",
    "    #logWs = np.log10(0.69*Ws(iH, WV_params))\n",
    "    logWs = safe_log10(0.69*Ws(iH, WV_params))\n",
    "    \n",
    "    b = (logWs**gamma1)/(gamma0 + logWs**gamma1)\n",
    "    return b\n",
    "\n",
    "\n",
    "\n",
    "def betaM_Hill_DENV(iM, WH_params, gamma0=np.exp(16), gamma1=9.2):\n",
    "    #logV = np.log10(Vstar(iM, WH_params))\n",
    "    logV = safe_log10(Vstar(iM, WH_params))\n",
    "    \n",
    "    b = (logV**gamma1)/(gamma0 + logV**gamma1) \n",
    "    return b"
   ]
  },
  {
   "cell_type": "markdown",
   "id": "24636d01-6559-410c-975e-ed32b97fe09c",
   "metadata": {},
   "source": [
    "Plot: The only change in the model parameters is that the intrinsic incubation period ($\\sigma_{H}^{-1}$) changes from mean 6 days to 4 days"
   ]
  },
  {
   "cell_type": "code",
   "execution_count": 67,
   "id": "8a786490-d1b5-4e04-b4dd-2b70732f12ce",
   "metadata": {},
   "outputs": [
    {
     "data": {
      "image/png": "[encoded data removed]",
      "text/plain": [
       "<Figure size 500x350 with 1 Axes>"
      ]
     },
     "metadata": {},
     "output_type": "display_data"
    }
   ],
   "source": [
    "# plot\n",
    "fig, ax1 = plt.subplots(figsize=(5,3.5), constrained_layout=True)\n",
    "\n",
    "\n",
    "xDENV2 = np.array([1, 1.01, 1, 0.07, 0.67, 0.39, 1/4, 1/8, 1/4.5]) \n",
    "\n",
    "\n",
    "r_host_d, r_vector_d, varphi_d, psi_d = plotVarphiPsi(xDENV2, WHparamsDENV, paramsWV, betaH_Hill_DENV, betaM_Hill_DENV)\n",
    "ax1.plot(r_host_d, varphi_d, label=r'$\\varphi$', linestyle='dashed', color='#1b9e77')\n",
    "ax1.plot(psi_d, r_vector_d, label=r'$\\psi$', color='#1b9e77')\n",
    "ax1.set_xlabel(\"Infected host (fraction)\", fontsize=12)\n",
    "ax1.set_ylabel(\"Infected mosquitoes (fraction)\", fontsize=12)\n",
    "ax1.legend(loc='best', fontsize=12)\n",
    "#ax1.set_title(\"WNV\")\n",
    "ax1.set_xlim(0, 0.5)\n",
    "ax1.set_ylim(0, 0.5)\n",
    "ax1.tick_params(labelsize=12)\n",
    "\n",
    "#plt.savefig(\"interc_nonlinearDENV_Hill.pdf\", bbox_inches = 'tight')\n",
    "plt.show()"
   ]
  },
  {
   "cell_type": "code",
   "execution_count": null,
   "id": "320e9992-78d7-48d9-bb66-cc2acfafe003",
   "metadata": {},
   "outputs": [],
   "source": []
  }
 ],
 "metadata": {
  "kernelspec": {
   "display_name": "Python 3 (ipykernel)",
   "language": "python",
   "name": "python3"
  },
  "language_info": {
   "codemirror_mode": {
    "name": "ipython",
    "version": 3
   },
   "file_extension": ".py",
   "mimetype": "text/x-python",
   "name": "python",
   "nbconvert_exporter": "python",
   "pygments_lexer": "ipython3",
   "version": "3.11.0"
  }
 },
 "nbformat": 4,
 "nbformat_minor": 5
}
